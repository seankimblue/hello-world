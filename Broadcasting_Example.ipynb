{
  "nbformat": 4,
  "nbformat_minor": 0,
  "metadata": {
    "colab": {
      "name": "Broadcasting Example.ipynb",
      "version": "0.3.2",
      "provenance": [],
      "include_colab_link": true
    },
    "kernelspec": {
      "name": "python3",
      "display_name": "Python 3"
    }
  },
  "cells": [
    {
      "cell_type": "markdown",
      "metadata": {
        "id": "view-in-github",
        "colab_type": "text"
      },
      "source": [
        "<a href=\"https://colab.research.google.com/github/seankimblue/hello-world/blob/master/Broadcasting_Example.ipynb\" target=\"_parent\"><img src=\"https://colab.research.google.com/assets/colab-badge.svg\" alt=\"Open In Colab\"/></a>"
      ]
    },
    {
      "metadata": {
        "id": "HXc_qFtqBeIY",
        "colab_type": "code",
        "colab": {}
      },
      "cell_type": "code",
      "source": [
        "import numpy as np"
      ],
      "execution_count": 0,
      "outputs": []
    },
    {
      "metadata": {
        "id": "NdZjNWk7BhWS",
        "colab_type": "code",
        "outputId": "d5194d34-d49f-4741-c809-cba6ceb6f4ad",
        "colab": {
          "base_uri": "https://localhost:8080/",
          "height": 68
        }
      },
      "cell_type": "code",
      "source": [
        "A = np.array([[56.0, 0.0, 4.4, 68.0],\n",
        "            [1.2, 104.0, 52.0, 8.0],\n",
        "            [1.8, 135.0, 99.0, 0.9]])\n",
        "print(A)"
      ],
      "execution_count": 0,
      "outputs": [
        {
          "output_type": "stream",
          "text": [
            "[[ 56.    0.    4.4  68. ]\n",
            " [  1.2 104.   52.    8. ]\n",
            " [  1.8 135.   99.    0.9]]\n"
          ],
          "name": "stdout"
        }
      ]
    },
    {
      "metadata": {
        "id": "UcDJOdzYjIbl",
        "colab_type": "code",
        "outputId": "45908bd4-4b0f-441b-af85-1620ac439507",
        "colab": {
          "base_uri": "https://localhost:8080/",
          "height": 34
        }
      },
      "cell_type": "code",
      "source": [
        "cal = A.sum(axis=0)\n",
        "print(cal)"
      ],
      "execution_count": 0,
      "outputs": [
        {
          "output_type": "stream",
          "text": [
            "[ 59.  239.  155.4  76.9]\n"
          ],
          "name": "stdout"
        }
      ]
    },
    {
      "metadata": {
        "id": "bx5QbhDlxF8w",
        "colab_type": "code",
        "outputId": "33508091-8a82-4a61-fb34-715831eefc0a",
        "colab": {
          "base_uri": "https://localhost:8080/",
          "height": 68
        }
      },
      "cell_type": "code",
      "source": [
        "percentage = 100 * A / cal\n",
        "print(percentage)"
      ],
      "execution_count": 0,
      "outputs": [
        {
          "output_type": "stream",
          "text": [
            "[[94.91525424  0.          2.83140283 88.42652796]\n",
            " [ 2.03389831 43.51464435 33.46203346 10.40312094]\n",
            " [ 3.05084746 56.48535565 63.70656371  1.17035111]]\n"
          ],
          "name": "stdout"
        }
      ]
    },
    {
      "metadata": {
        "id": "lTjF4sJYxt0g",
        "colab_type": "code",
        "outputId": "c45af716-25c8-478f-93a4-e17933ba7f6a",
        "colab": {
          "base_uri": "https://localhost:8080/",
          "height": 34
        }
      },
      "cell_type": "code",
      "source": [
        "a = np.random.randn(5)\n",
        "print(a)"
      ],
      "execution_count": 0,
      "outputs": [
        {
          "output_type": "stream",
          "text": [
            "[-0.83664922  0.63647853 -0.67845042 -0.24738253  1.51825075]\n"
          ],
          "name": "stdout"
        }
      ]
    },
    {
      "metadata": {
        "id": "jPnQnu2szTto",
        "colab_type": "code",
        "outputId": "d03096d5-16fe-4215-d373-94f5469a9c40",
        "colab": {
          "base_uri": "https://localhost:8080/",
          "height": 34
        }
      },
      "cell_type": "code",
      "source": [
        "print(a.shape)"
      ],
      "execution_count": 0,
      "outputs": [
        {
          "output_type": "stream",
          "text": [
            "(5,)\n"
          ],
          "name": "stdout"
        }
      ]
    },
    {
      "metadata": {
        "id": "sfSwdWP0zGq7",
        "colab_type": "code",
        "outputId": "19e1aa66-8754-40da-fec6-596410723b8d",
        "colab": {
          "base_uri": "https://localhost:8080/",
          "height": 34
        }
      },
      "cell_type": "code",
      "source": [
        "print(a.T)"
      ],
      "execution_count": 0,
      "outputs": [
        {
          "output_type": "stream",
          "text": [
            "[-0.83664922  0.63647853 -0.67845042 -0.24738253  1.51825075]\n"
          ],
          "name": "stdout"
        }
      ]
    },
    {
      "metadata": {
        "id": "3rxzAju4zWx8",
        "colab_type": "code",
        "outputId": "2c7525ac-d222-4079-979e-5f9e05583b07",
        "colab": {
          "base_uri": "https://localhost:8080/",
          "height": 34
        }
      },
      "cell_type": "code",
      "source": [
        "print(np.dot(a,a.T))"
      ],
      "execution_count": 0,
      "outputs": [
        {
          "output_type": "stream",
          "text": [
            "3.931665260778561\n"
          ],
          "name": "stdout"
        }
      ]
    },
    {
      "metadata": {
        "id": "DZ56c9jVzbFp",
        "colab_type": "code",
        "outputId": "2b906c68-25eb-49d9-e151-4c01a0056a4a",
        "colab": {
          "base_uri": "https://localhost:8080/",
          "height": 119
        }
      },
      "cell_type": "code",
      "source": [
        "b = np.random.randn(5,1)\n",
        "print(b)\n",
        "print(b.shape)"
      ],
      "execution_count": 0,
      "outputs": [
        {
          "output_type": "stream",
          "text": [
            "[[ 0.48041653]\n",
            " [ 0.61409553]\n",
            " [-0.27553827]\n",
            " [ 1.2872173 ]\n",
            " [-0.84056229]]\n",
            "(5, 1)\n"
          ],
          "name": "stdout"
        }
      ]
    },
    {
      "metadata": {
        "id": "i3O_gfpe0ewz",
        "colab_type": "code",
        "outputId": "28a40ddc-b5ca-42d4-eca4-a20ea74a317c",
        "colab": {
          "base_uri": "https://localhost:8080/",
          "height": 34
        }
      },
      "cell_type": "code",
      "source": [
        "print(b.T)"
      ],
      "execution_count": 0,
      "outputs": [
        {
          "output_type": "stream",
          "text": [
            "[[ 0.48041653  0.61409553 -0.27553827  1.2872173  -0.84056229]]\n"
          ],
          "name": "stdout"
        }
      ]
    },
    {
      "metadata": {
        "id": "KKR_1_l-0gbT",
        "colab_type": "code",
        "outputId": "b4e4eeb6-0432-484a-b476-ddb7f2733ad7",
        "colab": {
          "base_uri": "https://localhost:8080/",
          "height": 102
        }
      },
      "cell_type": "code",
      "source": [
        "print(np.dot(b,b.T))"
      ],
      "execution_count": 0,
      "outputs": [
        {
          "output_type": "stream",
          "text": [
            "[[ 0.23080004  0.29502164 -0.13237314  0.61840047 -0.40382002]\n",
            " [ 0.29502164  0.37711331 -0.16920682  0.79047439 -0.51618554]\n",
            " [-0.13237314 -0.16920682  0.07592134 -0.35467763  0.23160708]\n",
            " [ 0.61840047  0.79047439 -0.35467763  1.65692839 -1.08198633]\n",
            " [-0.40382002 -0.51618554  0.23160708 -1.08198633  0.70654497]]\n"
          ],
          "name": "stdout"
        }
      ]
    },
    {
      "metadata": {
        "id": "SIYY1ow106uv",
        "colab_type": "code",
        "outputId": "04e4ea55-35e5-446d-f2c3-0abaf7132459",
        "colab": {
          "base_uri": "https://localhost:8080/",
          "height": 119
        }
      },
      "cell_type": "code",
      "source": [
        "a=a.reshape((5,1))\n",
        "print(a)\n",
        "print(a.shape)"
      ],
      "execution_count": 0,
      "outputs": [
        {
          "output_type": "stream",
          "text": [
            "[[-0.83664922]\n",
            " [ 0.63647853]\n",
            " [-0.67845042]\n",
            " [-0.24738253]\n",
            " [ 1.51825075]]\n",
            "(5, 1)\n"
          ],
          "name": "stdout"
        }
      ]
    },
    {
      "metadata": {
        "id": "MDtcrZBT3VVc",
        "colab_type": "code",
        "colab": {}
      },
      "cell_type": "code",
      "source": [
        ""
      ],
      "execution_count": 0,
      "outputs": []
    }
  ]
}